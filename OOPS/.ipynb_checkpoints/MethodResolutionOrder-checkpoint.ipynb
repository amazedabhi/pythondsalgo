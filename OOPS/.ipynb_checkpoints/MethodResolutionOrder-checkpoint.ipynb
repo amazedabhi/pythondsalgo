{
 "cells": [
  {
   "cell_type": "code",
   "execution_count": 23,
   "metadata": {},
   "outputs": [],
   "source": [
    "class Mother:\n",
    "    def __init__(self):\n",
    "        self.name = \"Manju\"\n",
    "        super().__init__()\n",
    "    def print(self):\n",
    "        print(\"print of Mother Called\")\n",
    "        \n",
    "class Father:\n",
    "    def __init__(self):\n",
    "        self.name = \"Ajay\"\n",
    "        super().__init__()\n",
    "    def print(self):\n",
    "        print(\"print of Father Called\")\n",
    "        \n",
    "class Child(Mother,Father):\n",
    "    def __init__(self):\n",
    "        super().__init__()\n",
    "        \n",
    "    def print(self):\n",
    "        print(\"Name of Child\",self.name)"
   ]
  },
  {
   "cell_type": "code",
   "execution_count": 24,
   "metadata": {},
   "outputs": [
    {
     "name": "stdout",
     "output_type": "stream",
     "text": [
      "Name of Child Ajay\n",
      "[<class '__main__.Child'>, <class '__main__.Mother'>, <class '__main__.Father'>, <class 'object'>]\n"
     ]
    }
   ],
   "source": [
    "c=Child()\n",
    "c.print()\n",
    "print(Child.mro())"
   ]
  }
 ],
 "metadata": {
  "kernelspec": {
   "display_name": "Python 3",
   "language": "python",
   "name": "python3"
  },
  "language_info": {
   "codemirror_mode": {
    "name": "ipython",
    "version": 3
   },
   "file_extension": ".py",
   "mimetype": "text/x-python",
   "name": "python",
   "nbconvert_exporter": "python",
   "pygments_lexer": "ipython3",
   "version": "3.7.3"
  }
 },
 "nbformat": 4,
 "nbformat_minor": 2
}
