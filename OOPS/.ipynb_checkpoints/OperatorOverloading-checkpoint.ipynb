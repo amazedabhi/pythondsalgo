{
 "cells": [
  {
   "cell_type": "code",
   "execution_count": 10,
   "metadata": {},
   "outputs": [],
   "source": [
    "import math\n",
    "class Point:\n",
    "    def __init__(self,x,y):\n",
    "        self.__x=x\n",
    "        self.__y=y\n",
    "    \n",
    "    def __str__(self):\n",
    "        return \"This point is at (\"+str(self.__x)+\",\"+str(self.__y)+\")\"\n",
    "    \n",
    "    def __add__(self,other_object):\n",
    "        return Point(self.__x+other_object.__x,self.__y+other_object.__y)\n",
    "    \n",
    "    def __lt__(self,other_object):\n",
    "        return math.sqrt(self.__x**2+self.__y**2)<math.sqrt(other_object.__x**2+other_object.__y**2)"
   ]
  },
  {
   "cell_type": "code",
   "execution_count": 12,
   "metadata": {},
   "outputs": [
    {
     "name": "stdout",
     "output_type": "stream",
     "text": [
      "This point is at (4,6)\n",
      "False\n"
     ]
    }
   ],
   "source": [
    "p1=Point(1,2)\n",
    "p2=Point(3,4)\n",
    "p3=p1+p2\n",
    "print(p3)\n",
    "print(p1>p2)"
   ]
  }
 ],
 "metadata": {
  "kernelspec": {
   "display_name": "Python 3",
   "language": "python",
   "name": "python3"
  },
  "language_info": {
   "codemirror_mode": {
    "name": "ipython",
    "version": 3
   },
   "file_extension": ".py",
   "mimetype": "text/x-python",
   "name": "python",
   "nbconvert_exporter": "python",
   "pygments_lexer": "ipython3",
   "version": "3.7.3"
  }
 },
 "nbformat": 4,
 "nbformat_minor": 2
}
