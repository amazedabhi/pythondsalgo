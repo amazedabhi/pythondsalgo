{
 "cells": [
  {
   "cell_type": "code",
   "execution_count": 40,
   "metadata": {},
   "outputs": [],
   "source": [
    "class Fraction:\n",
    "    def __init__(self,num=0,den=1):\n",
    "        if den==0:\n",
    "            den=1\n",
    "        else:\n",
    "            self.num = num\n",
    "            self.den = den\n",
    "        \n",
    "    def print(self):\n",
    "        if self.num==0:\n",
    "            print(self.num)\n",
    "        elif self.den==1:\n",
    "            print(self.den)\n",
    "        else:\n",
    "            print(self.num,'/',self.den)\n",
    "    \n",
    "    def simplify(self):\n",
    "        if self.num == 0:\n",
    "            self.den=1\n",
    "            return\n",
    "        current=min(self.num,self.den)\n",
    "        while current > 1:\n",
    "            if self.num % current ==0 and self.den % current ==0:\n",
    "                break\n",
    "            current = current -1\n",
    "        self.num=self.num//current\n",
    "        self.den=self.den//current"
   ]
  },
  {
   "cell_type": "code",
   "execution_count": 41,
   "metadata": {},
   "outputs": [],
   "source": [
    "f= Fraction(0,6)"
   ]
  },
  {
   "cell_type": "code",
   "execution_count": 42,
   "metadata": {},
   "outputs": [
    {
     "name": "stdout",
     "output_type": "stream",
     "text": [
      "0\n"
     ]
    }
   ],
   "source": [
    "f.print()"
   ]
  },
  {
   "cell_type": "code",
   "execution_count": 43,
   "metadata": {},
   "outputs": [],
   "source": [
    "f.simplify()"
   ]
  },
  {
   "cell_type": "code",
   "execution_count": 44,
   "metadata": {},
   "outputs": [
    {
     "name": "stdout",
     "output_type": "stream",
     "text": [
      "0\n"
     ]
    }
   ],
   "source": [
    "f.print()"
   ]
  }
 ],
 "metadata": {
  "kernelspec": {
   "display_name": "Python 3",
   "language": "python",
   "name": "python3"
  },
  "language_info": {
   "codemirror_mode": {
    "name": "ipython",
    "version": 3
   },
   "file_extension": ".py",
   "mimetype": "text/x-python",
   "name": "python",
   "nbconvert_exporter": "python",
   "pygments_lexer": "ipython3",
   "version": "3.7.3"
  }
 },
 "nbformat": 4,
 "nbformat_minor": 2
}
