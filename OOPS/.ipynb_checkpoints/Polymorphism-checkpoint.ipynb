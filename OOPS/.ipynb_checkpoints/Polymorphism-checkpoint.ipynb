{
 "cells": [
  {
   "cell_type": "code",
   "execution_count": 7,
   "metadata": {},
   "outputs": [],
   "source": [
    "class Vehicle:\n",
    "    def __init__(self,color,maxSpeed):\n",
    "        #private member\n",
    "        self.__maxSpeed=maxSpeed\n",
    "        self.color=color\n",
    "        #self.maxSpeed=maxSpeed\n",
    "    \n",
    "    def getMaxSpeed(self):\n",
    "        return self.__maxSpeed\n",
    "    \n",
    "    def setMaxSpeed(self,maxSpeed):\n",
    "        self.__maxSpeed=maxSpeed\n",
    "    \n",
    "    def print(self):\n",
    "        print(\"Color\",self.color)\n",
    "        print(\"maxSpeed\",self.__maxSpeed)\n",
    "\n",
    "class Car(Vehicle):\n",
    "    def __init__(self,color,maxSpeed,numGears,isConvertible):\n",
    "        super().__init__(color,maxSpeed)\n",
    "        super().setMaxSpeed(maxSpeed)\n",
    "        self.numGears=numGears\n",
    "        self.isConvertible=isConvertible\n",
    "    \n",
    "    def print(self):\n",
    "        #both of the statements are equivalent in this case if we have a single print function \n",
    "        #in both classes \n",
    "        super().print()\n",
    "        #self.print()\n",
    "        print(\"numGears\",self.numGears)\n",
    "        print(\"isConvertible\",self.isConvertible)"
   ]
  },
  {
   "cell_type": "code",
   "execution_count": 9,
   "metadata": {},
   "outputs": [
    {
     "name": "stdout",
     "output_type": "stream",
     "text": [
      "Color red\n",
      "maxSpeed 15\n",
      "numGears 3\n",
      "isConvertible False\n"
     ]
    }
   ],
   "source": [
    "c=Car(\"red\",15,3,False)\n",
    "c.print()"
   ]
  },
  {
   "cell_type": "code",
   "execution_count": 14,
   "metadata": {},
   "outputs": [
    {
     "name": "stdout",
     "output_type": "stream",
     "text": [
      "black 5\n"
     ]
    }
   ],
   "source": [
    "class Vehicle:\n",
    "    def __init__(self,color):\n",
    "        self.color = color\n",
    "    def print(self):\n",
    "        print(c.color,end=\" \")\n",
    "class Car(Vehicle):\n",
    "    def __init__(self,color,numGears):\n",
    "        super().__init__(color)\n",
    "        self.numGears = numGears\n",
    "    def print(self):\n",
    "        print(c.color,end=\" \" )\n",
    "        print(c.numGears)\n",
    "c = Car(\"black\",5)\n",
    "c.print()"
   ]
  }
 ],
 "metadata": {
  "kernelspec": {
   "display_name": "Python 3",
   "language": "python",
   "name": "python3"
  },
  "language_info": {
   "codemirror_mode": {
    "name": "ipython",
    "version": 3
   },
   "file_extension": ".py",
   "mimetype": "text/x-python",
   "name": "python",
   "nbconvert_exporter": "python",
   "pygments_lexer": "ipython3",
   "version": "3.7.3"
  }
 },
 "nbformat": 4,
 "nbformat_minor": 2
}
