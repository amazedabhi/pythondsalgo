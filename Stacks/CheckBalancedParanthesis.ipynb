{
 "cells": [
  {
   "cell_type": "code",
   "execution_count": 1,
   "metadata": {},
   "outputs": [],
   "source": [
    "\n",
    "def checkBalanced(expr):\n",
    "    l=[]\n",
    "    isbalanced=True\n",
    "    count=0\n",
    "    for i in range(0,len(expr)):\n",
    "        if expr[i]=='{' or expr[i]=='(' or expr[i]=='[':\n",
    "            l.append(expr[i])\n",
    "            count = count +1\n",
    "        if expr[i]=='}' or expr[i]==')' or expr[i]==']':\n",
    "            if count != 0:\n",
    "                l.pop()\n",
    "            count = count - 1\n",
    "    \n",
    "    if count != 0:\n",
    "        isbalanced=False\n",
    "    #print(l)\n",
    "    return isbalanced\n"
   ]
  },
  {
   "cell_type": "code",
   "execution_count": 2,
   "metadata": {},
   "outputs": [
    {
     "name": "stdout",
     "output_type": "stream",
     "text": [
      "{A+B}\n",
      "true\n"
     ]
    }
   ],
   "source": [
    "exp=input()\n",
    "if checkBalanced(exp):\n",
    "    print('true')\n",
    "else:\n",
    "    print('false')"
   ]
  }
 ],
 "metadata": {
  "kernelspec": {
   "display_name": "Python 3",
   "language": "python",
   "name": "python3"
  },
  "language_info": {
   "codemirror_mode": {
    "name": "ipython",
    "version": 3
   },
   "file_extension": ".py",
   "mimetype": "text/x-python",
   "name": "python",
   "nbconvert_exporter": "python",
   "pygments_lexer": "ipython3",
   "version": "3.7.3"
  }
 },
 "nbformat": 4,
 "nbformat_minor": 2
}
