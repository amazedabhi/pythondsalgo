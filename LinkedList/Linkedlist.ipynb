{
 "cells": [
  {
   "cell_type": "code",
   "execution_count": 1,
   "metadata": {},
   "outputs": [],
   "source": [
    "class Node:\n",
    "    def __init__(self,data):\n",
    "        self.data=data\n",
    "        self.next=None"
   ]
  },
  {
   "cell_type": "code",
   "execution_count": 2,
   "metadata": {},
   "outputs": [],
   "source": [
    "#Input\n",
    "def takeInput():\n",
    "    inputList =[int(ele) for ele in input().split()]\n",
    "    head=None\n",
    "    for currdata in inputList:\n",
    "        if currdata == -1:\n",
    "            break\n",
    "        newNode = Node(currdata)\n",
    "        if head is None:\n",
    "            head=newNode\n",
    "        else:\n",
    "            temp=head\n",
    "            while temp.next is not None:\n",
    "                temp=temp.next\n",
    "            temp.next=newNode\n",
    "    \n",
    "    return head\n",
    "\n",
    "def printLL(head):\n",
    "    temp = head\n",
    "    while temp is not None:\n",
    "        print(temp.data,\"->\",end=\"\")\n",
    "        temp=temp.next\n",
    "    print(\"None\")"
   ]
  },
  {
   "cell_type": "code",
   "execution_count": null,
   "metadata": {},
   "outputs": [],
   "source": [
    "def insertAtI(head,i,data):\n",
    "    "
   ]
  },
  {
   "cell_type": "code",
   "execution_count": 8,
   "metadata": {},
   "outputs": [
    {
     "name": "stdout",
     "output_type": "stream",
     "text": [
      "1 2 3 4 5 6\n",
      "1 ->2 ->3 ->4 ->5 ->6 ->None\n"
     ]
    }
   ],
   "source": [
    "head=takeInput()\n",
    "printLL(head)"
   ]
  },
  {
   "cell_type": "code",
   "execution_count": 21,
   "metadata": {},
   "outputs": [
    {
     "data": {
      "text/plain": [
       "2"
      ]
     },
     "execution_count": 21,
     "metadata": {},
     "output_type": "execute_result"
    }
   ],
   "source": [
    "head.next.data"
   ]
  }
 ],
 "metadata": {
  "kernelspec": {
   "display_name": "Python 3",
   "language": "python",
   "name": "python3"
  },
  "language_info": {
   "codemirror_mode": {
    "name": "ipython",
    "version": 3
   },
   "file_extension": ".py",
   "mimetype": "text/x-python",
   "name": "python",
   "nbconvert_exporter": "python",
   "pygments_lexer": "ipython3",
   "version": "3.7.3"
  }
 },
 "nbformat": 4,
 "nbformat_minor": 2
}
