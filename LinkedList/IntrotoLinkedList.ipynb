{
 "cells": [
  {
   "cell_type": "code",
   "execution_count": 8,
   "metadata": {},
   "outputs": [],
   "source": [
    "class Node:\n",
    "    def __init__(self,data):\n",
    "        self.data=data\n",
    "        self.next=None\n",
    "        \n",
    "    def printLL(head):\n",
    "        while head is not None:\n",
    "            print(head.data,end=\" \")\n",
    "            head = head.next"
   ]
  },
  {
   "cell_type": "code",
   "execution_count": 10,
   "metadata": {},
   "outputs": [
    {
     "name": "stdout",
     "output_type": "stream",
     "text": [
      "13\n",
      "15\n",
      "15\n",
      "<__main__.Node object at 0x000001CDF89397F0>\n",
      "<__main__.Node object at 0x000001CDF8939588>\n",
      "<__main__.Node object at 0x000001CDF8939588>\n",
      "None\n",
      "20 10 "
     ]
    }
   ],
   "source": [
    "a=Node(13)\n",
    "b=Node(15)\n",
    "a.next=b\n",
    "print(a.data)\n",
    "print(b.data)\n",
    "print(a.next.data)\n",
    "print(a)\n",
    "print(a.next)\n",
    "print(b)\n",
    "print(b.next)\n",
    "node1 = Node(10)\n",
    "node2 = Node(20)\n",
    "node2.next = node1\n",
    "Node.printLL(node2)"
   ]
  },
  {
   "cell_type": "code",
   "execution_count": null,
   "metadata": {},
   "outputs": [],
   "source": []
  }
 ],
 "metadata": {
  "kernelspec": {
   "display_name": "Python 3",
   "language": "python",
   "name": "python3"
  },
  "language_info": {
   "codemirror_mode": {
    "name": "ipython",
    "version": 3
   },
   "file_extension": ".py",
   "mimetype": "text/x-python",
   "name": "python",
   "nbconvert_exporter": "python",
   "pygments_lexer": "ipython3",
   "version": "3.7.3"
  }
 },
 "nbformat": 4,
 "nbformat_minor": 2
}
