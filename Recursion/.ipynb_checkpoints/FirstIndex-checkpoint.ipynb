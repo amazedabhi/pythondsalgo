{
 "cells": [
  {
   "cell_type": "code",
   "execution_count": 6,
   "metadata": {},
   "outputs": [],
   "source": [
    "def firstIndex(arr, x):\n",
    "    # Please add your code here\n",
    "    l=len(arr)\n",
    "    if l==0:\n",
    "        return -1\n",
    "    if arr[0]==x:\n",
    "        return 0\n",
    "    i=firstIndex(arr[1:],x)\n",
    "    if i==-1:\n",
    "        return -1\n",
    "    else:\n",
    "        return i+1"
   ]
  },
  {
   "cell_type": "code",
   "execution_count": 7,
   "metadata": {},
   "outputs": [
    {
     "name": "stdout",
     "output_type": "stream",
     "text": [
      "2\n"
     ]
    }
   ],
   "source": [
    "a=[1,2,4,3,5,6,7,8]\n",
    "print(firstIndex(a,4))"
   ]
  },
  {
   "cell_type": "code",
   "execution_count": 11,
   "metadata": {},
   "outputs": [],
   "source": [
    "def firstIndexsi(arr,x,si):\n",
    "    l=len(arr)\n",
    "    if si==l-1:\n",
    "        return -1\n",
    "    if arr[si]==x:\n",
    "        return 0\n",
    "    i=firstIndexsi(arr,x,si+1)\n",
    "    if i==-1:\n",
    "        return -1\n",
    "    else:\n",
    "        return i+1"
   ]
  },
  {
   "cell_type": "code",
   "execution_count": 16,
   "metadata": {},
   "outputs": [
    {
     "name": "stdout",
     "output_type": "stream",
     "text": [
      "3\n"
     ]
    }
   ],
   "source": [
    "a=[1,2,2,3,4,3,5,6,7,8]\n",
    "print(firstIndexsi(a,3,0))"
   ]
  }
 ],
 "metadata": {
  "kernelspec": {
   "display_name": "Python 3",
   "language": "python",
   "name": "python3"
  },
  "language_info": {
   "codemirror_mode": {
    "name": "ipython",
    "version": 3
   },
   "file_extension": ".py",
   "mimetype": "text/x-python",
   "name": "python",
   "nbconvert_exporter": "python",
   "pygments_lexer": "ipython3",
   "version": "3.7.3"
  }
 },
 "nbformat": 4,
 "nbformat_minor": 2
}
