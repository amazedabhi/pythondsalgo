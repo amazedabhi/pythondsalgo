{
 "cells": [
  {
   "cell_type": "code",
   "execution_count": 1,
   "metadata": {},
   "outputs": [],
   "source": [
    "# Problem: Remove x from string\n",
    "def removeX(string): \n",
    "    if len(string)==0:\n",
    "        return string\n",
    "    \n",
    "    smallOutput = removeX(string[1:])\n",
    "    if string[0]=='x':\n",
    "        return smallOutput\n",
    "    else:\n",
    "        return string[0] + smallOutput"
   ]
  },
  {
   "cell_type": "code",
   "execution_count": 3,
   "metadata": {},
   "outputs": [
    {
     "name": "stdout",
     "output_type": "stream",
     "text": [
      "xaxb\n"
     ]
    }
   ],
   "source": [
    "# Main\n",
    "string = input()"
   ]
  },
  {
   "cell_type": "code",
   "execution_count": 5,
   "metadata": {},
   "outputs": [
    {
     "name": "stdout",
     "output_type": "stream",
     "text": [
      "ab\n"
     ]
    }
   ],
   "source": [
    "print(removeX(string))"
   ]
  },
  {
   "cell_type": "code",
   "execution_count": 21,
   "metadata": {},
   "outputs": [],
   "source": [
    "def replacepi(string):\n",
    "    if len(string)==0 or len(string)==1:\n",
    "        return string\n",
    "    \n",
    "    smallOutput = replacepi(string[2:])\n",
    "    if string[0]=='p' and string[1]=='i':\n",
    "        return '3.14'+smallOutput\n",
    "    elif string[0]=='p':\n",
    "        smallOutput= string[1]+smallOutput\n",
    "        return smallOutput\n",
    "    else:\n",
    "        return string[0]+string[1]+smallOutput"
   ]
  },
  {
   "cell_type": "code",
   "execution_count": 22,
   "metadata": {},
   "outputs": [
    {
     "name": "stdout",
     "output_type": "stream",
     "text": [
      "ppiab\n",
      "piab\n"
     ]
    }
   ],
   "source": [
    "# Main\n",
    "string = input()\n",
    "print(replacepi(string))"
   ]
  }
 ],
 "metadata": {
  "kernelspec": {
   "display_name": "Python 3",
   "language": "python",
   "name": "python3"
  },
  "language_info": {
   "codemirror_mode": {
    "name": "ipython",
    "version": 3
   },
   "file_extension": ".py",
   "mimetype": "text/x-python",
   "name": "python",
   "nbconvert_exporter": "python",
   "pygments_lexer": "ipython3",
   "version": "3.7.3"
  }
 },
 "nbformat": 4,
 "nbformat_minor": 2
}
