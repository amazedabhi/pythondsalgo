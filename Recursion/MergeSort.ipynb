{
 "cells": [
  {
   "cell_type": "code",
   "execution_count": 7,
   "metadata": {},
   "outputs": [],
   "source": [
    "def merge(a1,a2,arr):\n",
    "    i=0\n",
    "    j=0\n",
    "    k=0\n",
    "    while i < len(a1) and j<len(a2):\n",
    "        if a1[i] < a2[j]:\n",
    "            arr[k]=a1[i]\n",
    "            k=k+1\n",
    "            i=i+1\n",
    "        else:\n",
    "            arr[k]=a2[j]\n",
    "            k=k+1\n",
    "            j=j+1\n",
    "    while i<len(a1):\n",
    "        arr[k]=a1[i]\n",
    "        k=k+1\n",
    "        i=i+1\n",
    "    while j<len(a2):\n",
    "        arr[k]=a2[j]\n",
    "        k=k+1\n",
    "        j=j+1\n",
    "            \n",
    "    \n",
    "\n",
    "def mergeSort(arr, start, end):\n",
    "    # Please add your code here\n",
    "    if len(arr) == 0 or len(arr) == 1 or start >= end:\n",
    "        return\n",
    "    \n",
    "    mid = (start + end) // 2\n",
    "    a1 = arr[start : mid]\n",
    "    a2 = arr[mid : end]\n",
    "    \n",
    "    mergeSort(a1, 0, len(a1))\n",
    "    mergeSort(a2, 0, len(a2))\n",
    "    \n",
    "    merge(a1, a2, arr)\n",
    "\n",
    "    return"
   ]
  },
  {
   "cell_type": "code",
   "execution_count": 8,
   "metadata": {},
   "outputs": [
    {
     "name": "stdout",
     "output_type": "stream",
     "text": [
      "6\n",
      "2 6 8 5 4 3\n",
      "2 3 4 5 6 8\n"
     ]
    }
   ],
   "source": [
    "n=int(input())\n",
    "arr=list(int(i) for i in input().strip().split(' '))\n",
    "mergeSort(arr, 0, n)\n",
    "print(*arr)\n"
   ]
  }
 ],
 "metadata": {
  "kernelspec": {
   "display_name": "Python 3",
   "language": "python",
   "name": "python3"
  },
  "language_info": {
   "codemirror_mode": {
    "name": "ipython",
    "version": 3
   },
   "file_extension": ".py",
   "mimetype": "text/x-python",
   "name": "python",
   "nbconvert_exporter": "python",
   "pygments_lexer": "ipython3",
   "version": "3.7.3"
  }
 },
 "nbformat": 4,
 "nbformat_minor": 2
}
