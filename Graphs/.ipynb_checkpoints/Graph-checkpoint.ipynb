{
 "cells": [
  {
   "cell_type": "code",
   "execution_count": 13,
   "metadata": {},
   "outputs": [],
   "source": [
    "class Graph:\n",
    "    def __init__(self,nVertices):\n",
    "        self.nVertices=nVertices\n",
    "        self.adjacencyMatrix=[[0 for i in range(self.nVertices)] for j in range(self.nVertices)]\n",
    "        \n",
    "    def addEdge(self,v1,v2):\n",
    "        self.adjacencyMatrix[v1][v2]=1\n",
    "        self.adjacencyMatrix[v2][v1]=1\n",
    "        \n",
    "    def removeEdge(self,v1,v2):\n",
    "        if self.containsEdge(v1,v2) is False:\n",
    "            return\n",
    "        self.adjacencyMatrix[v1][v2]=0\n",
    "        self.adjacencyMatrix[v2][v1]=0\n",
    "    \n",
    "    def __dfshelper(self,sv,visited):\n",
    "        print(sv)\n",
    "        visited[sv]=True\n",
    "        for i in range(self.nVertices):\n",
    "            if self.adjacencyMatrix[sv][i]>0 and visited[i] is False:\n",
    "                self.__dfshelper(i,visited)\n",
    "        \n",
    "    def dfs(self,sv):\n",
    "        visited=[False for i in range(self.nVertices)]\n",
    "        self.__dfshelper(sv,visited)\n",
    "        \n",
    "    def containsEdge(self,v1,v2):\n",
    "        return True if self.adjacencyMatrix[v1][v2] >0 else False\n",
    "        \n",
    "    def __str__(self):\n",
    "        return str(self.adjacencyMatrix)"
   ]
  },
  {
   "cell_type": "code",
   "execution_count": 14,
   "metadata": {},
   "outputs": [],
   "source": [
    "g=Graph(5)"
   ]
  },
  {
   "cell_type": "code",
   "execution_count": 15,
   "metadata": {},
   "outputs": [],
   "source": [
    "g.addEdge(0,1)\n",
    "g.addEdge(1,3)\n",
    "g.addEdge(2,4)\n",
    "g.addEdge(2,3)\n",
    "g.addEdge(0,2)"
   ]
  },
  {
   "cell_type": "code",
   "execution_count": 16,
   "metadata": {},
   "outputs": [
    {
     "name": "stdout",
     "output_type": "stream",
     "text": [
      "0\n",
      "1\n",
      "3\n",
      "2\n",
      "4\n"
     ]
    }
   ],
   "source": [
    "g.dfs(0)"
   ]
  }
 ],
 "metadata": {
  "kernelspec": {
   "display_name": "Python 3",
   "language": "python",
   "name": "python3"
  },
  "language_info": {
   "codemirror_mode": {
    "name": "ipython",
    "version": 3
   },
   "file_extension": ".py",
   "mimetype": "text/x-python",
   "name": "python",
   "nbconvert_exporter": "python",
   "pygments_lexer": "ipython3",
   "version": "3.7.3"
  }
 },
 "nbformat": 4,
 "nbformat_minor": 2
}
