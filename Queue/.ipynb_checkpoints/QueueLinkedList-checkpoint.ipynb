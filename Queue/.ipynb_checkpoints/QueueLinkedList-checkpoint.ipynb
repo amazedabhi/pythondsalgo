{
 "cells": [
  {
   "cell_type": "code",
   "execution_count": null,
   "metadata": {},
   "outputs": [],
   "source": [
    "class Node:\n",
    "    def __init__(self,data):\n",
    "        self.data=data\n",
    "        self.next=None\n",
    "        \n",
    "class QueueUsingLL:\n",
    "    def __init__(self):\n",
    "        self.__head=None\n",
    "        self.__tail=None\n",
    "        self.__count=0\n",
    "        \n",
    "    def enqueue(self,data):\n",
    "        newNode=Node(data)\n",
    "        if self.__head is None:\n",
    "            self.__head=newNode    \n",
    "        else:\n",
    "            self.__tail.next=newNode\n",
    "        self.__tail=newNode\n",
    "        self.__count +=1\n",
    "    \n",
    "    def dequeue(self):\n",
    "        if self.__head is None:\n",
    "            print(\"Hey Queue is Empty!!\")\n",
    "            return\n",
    "        element=self.__head.data\n",
    "        self.__head=self.__head.next\n",
    "        self.__count = self.__count - 1\n",
    "        return element\n",
    "        \n",
    "    def isEmpty(self):\n",
    "        return self.size()==0\n",
    "        \n",
    "    def size(self):\n",
    "        return self.__count\n",
    "        \n",
    "    def front(self):\n",
    "        if self.__head is None:\n",
    "            print(\"Hey Queue is Empty!!\")\n",
    "            return\n",
    "        element=self.__head.data\n",
    "        return element\n",
    "        "
   ]
  }
 ],
 "metadata": {
  "kernelspec": {
   "display_name": "Python 3",
   "language": "python",
   "name": "python3"
  },
  "language_info": {
   "codemirror_mode": {
    "name": "ipython",
    "version": 3
   },
   "file_extension": ".py",
   "mimetype": "text/x-python",
   "name": "python",
   "nbconvert_exporter": "python",
   "pygments_lexer": "ipython3",
   "version": "3.7.3"
  }
 },
 "nbformat": 4,
 "nbformat_minor": 2
}
